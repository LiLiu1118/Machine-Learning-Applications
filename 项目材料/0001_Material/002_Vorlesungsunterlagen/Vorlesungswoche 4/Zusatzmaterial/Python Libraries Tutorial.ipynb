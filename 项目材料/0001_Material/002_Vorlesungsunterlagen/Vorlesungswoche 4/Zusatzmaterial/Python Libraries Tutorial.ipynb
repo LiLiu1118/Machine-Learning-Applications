{
 "cells": [
  {
   "cell_type": "markdown",
   "metadata": {},
   "source": [
    "<h1> Python for Scientific Computation </hh1>"
   ]
  },
  {
   "cell_type": "markdown",
   "metadata": {},
   "source": [
    "This tutorial will focus on fundamental python libraries for scientific computing. Mainly, numpy. Other libraries like scipy, pandas and seaborn will also be breifly mentioned.\n",
    "\n",
    "This tutorial borrows from the Python introduction section in CS231n by Stanford University.\n",
    "http://cs231n.github.io/python-numpy-tutorial/#numpy"
   ]
  },
  {
   "cell_type": "code",
   "execution_count": 116,
   "metadata": {},
   "outputs": [
    {
     "data": {
      "text/html": [
       "<img src=\"https://www.python-kurs.eu/images/matlab_python_vergleich.png\"/>"
      ],
      "text/plain": [
       "<IPython.core.display.Image object>"
      ]
     },
     "execution_count": 116,
     "metadata": {},
     "output_type": "execute_result"
    }
   ],
   "source": [
    "from IPython.display import Image\n",
    "Image(url= \"https://www.python-kurs.eu/images/matlab_python_vergleich.png\")"
   ]
  },
  {
   "cell_type": "markdown",
   "metadata": {},
   "source": [
    "<h2> Numpy </h2>\n",
    "\n",
    "By default, array like structures in python are possible, for example by making a list out of list, but for most mathematical operations they're insufficient, cumbersome to use and often perform slowly.\n",
    "If you're familiar with Matlab you can check out Numpys official Tutorial: \"Numpy for Matlab Users\" https://docs.scipy.org/doc/numpy/user/numpy-for-matlab-users.html\n",
    "\n"
   ]
  },
  {
   "cell_type": "markdown",
   "metadata": {},
   "source": [
    "<h3> Arrays and Introduction</h3>\n",
    "\n",
    "Arrays are the matrixes of Numpy/Python. All elements must have the same data type, they're grid wise in nature (unlike nested lists) and have an index for each axis.\n",
    "\n",
    "Let's start by importing numpy and creating a matrix ( 2 dimensional array ). We can use the shape method to see the matrix dimensions."
   ]
  },
  {
   "cell_type": "code",
   "execution_count": 8,
   "metadata": {},
   "outputs": [
    {
     "name": "stdout",
     "output_type": "stream",
     "text": [
      "[[1 2 3]\n",
      " [4 5 6]]\n",
      "\n",
      " (2, 3)\n"
     ]
    }
   ],
   "source": [
    "import numpy as np  # Imports numpy and shortens the name numpy to np\n",
    "\n",
    "b = np.array([[1,2,3],[4,5,6]]) \n",
    "print(b)\n",
    "print(\"\\n\", b.shape)"
   ]
  },
  {
   "cell_type": "markdown",
   "metadata": {},
   "source": [
    "Now we create an 1d array. (Note that Matlab doesn't have 1d arrays)"
   ]
  },
  {
   "cell_type": "code",
   "execution_count": 53,
   "metadata": {},
   "outputs": [
    {
     "name": "stdout",
     "output_type": "stream",
     "text": [
      "[1 2 3]\n",
      "\n",
      " (3,)\n"
     ]
    }
   ],
   "source": [
    "a = np.array([1, 2, 3])\n",
    "print(a)\n",
    "print(\"\\n\", a.shape)"
   ]
  },
  {
   "cell_type": "markdown",
   "metadata": {},
   "source": [
    "Numpy provides many predefined function to create common types of matrixes\n",
    "For these functions we provide the 2d shape as an input argument"
   ]
  },
  {
   "cell_type": "code",
   "execution_count": 29,
   "metadata": {},
   "outputs": [
    {
     "name": "stdout",
     "output_type": "stream",
     "text": [
      "[[0. 0. 0.]\n",
      " [0. 0. 0.]]\n",
      "[[1. 1.]]\n",
      "[[7 7]\n",
      " [7 7]]\n",
      "[[1. 0.]\n",
      " [0. 1.]]\n",
      "[[0.59365175 0.40380171]\n",
      " [0.99734904 0.19917118]]\n"
     ]
    }
   ],
   "source": [
    "a = np.zeros((2,3))   # Create an array of all zeros\n",
    "print(a)              \n",
    "\n",
    "b = np.ones((1,2))    # Create an array of all ones\n",
    "print(b)              \n",
    "\n",
    "\n",
    "c = np.full((2,2), 7)  # Create a constant array\n",
    "print(c)  \n",
    "\n",
    "d = np.eye(2)         # Create a 2x2 identity matrix\n",
    "print(d)   \n",
    "\n",
    "e = np.random.random((2,2))  # Create an array filled with random values\n",
    "print(e)               "
   ]
  },
  {
   "cell_type": "markdown",
   "metadata": {},
   "source": [
    "Let's multiply two matrices! In numpy all the \"usually\" operator function as element-wise operations. This behavior is consistent for all arrays. \n",
    "\n",
    "To use specified matrix-multiplication we need to use the .dot() Method or @ as a shortcut."
   ]
  },
  {
   "cell_type": "code",
   "execution_count": 13,
   "metadata": {},
   "outputs": [
    {
     "name": "stdout",
     "output_type": "stream",
     "text": [
      "[[ 2  8 18]\n",
      " [ 0  0  0]]\n",
      "\n",
      "\n"
     ]
    },
    {
     "ename": "ValueError",
     "evalue": "shapes (2,3) and (2,3) not aligned: 3 (dim 1) != 2 (dim 0)",
     "output_type": "error",
     "traceback": [
      "\u001b[1;31m---------------------------------------------------------------------------\u001b[0m",
      "\u001b[1;31mValueError\u001b[0m                                Traceback (most recent call last)",
      "\u001b[1;32m<ipython-input-13-e9fb1ebc8fd9>\u001b[0m in \u001b[0;36m<module>\u001b[1;34m()\u001b[0m\n\u001b[0;32m      2\u001b[0m \u001b[0mprint\u001b[0m\u001b[1;33m(\u001b[0m\u001b[0mb\u001b[0m\u001b[1;33m*\u001b[0m\u001b[0mc\u001b[0m\u001b[1;33m)\u001b[0m\u001b[1;33m\u001b[0m\u001b[0m\n\u001b[0;32m      3\u001b[0m \u001b[0mprint\u001b[0m\u001b[1;33m(\u001b[0m\u001b[1;34m\"\\n\"\u001b[0m\u001b[1;33m)\u001b[0m\u001b[1;33m\u001b[0m\u001b[0m\n\u001b[1;32m----> 4\u001b[1;33m \u001b[0mprint\u001b[0m\u001b[1;33m(\u001b[0m\u001b[0mb\u001b[0m\u001b[1;33m@\u001b[0m\u001b[0mc\u001b[0m\u001b[1;33m)\u001b[0m\u001b[1;33m\u001b[0m\u001b[0m\n\u001b[0m",
      "\u001b[1;31mValueError\u001b[0m: shapes (2,3) and (2,3) not aligned: 3 (dim 1) != 2 (dim 0)"
     ]
    }
   ],
   "source": [
    "c = np.array([[2,4,6],[0,0,0]]) \n",
    "print(b*c) \n",
    "print(\"\\n\")\n",
    "print(b@c)"
   ]
  },
  {
   "cell_type": "markdown",
   "metadata": {},
   "source": [
    "Numpy is telling us that the shapes are not compatible for matrix multiplication, to fix this we need to transpose matrix b."
   ]
  },
  {
   "cell_type": "code",
   "execution_count": 20,
   "metadata": {},
   "outputs": [
    {
     "name": "stdout",
     "output_type": "stream",
     "text": [
      "[[ 2  4  6]\n",
      " [ 4  8 12]\n",
      " [ 6 12 18]]\n",
      "\n",
      "\n",
      "[[ 2  4  6]\n",
      " [ 4  8 12]\n",
      " [ 6 12 18]]\n"
     ]
    }
   ],
   "source": [
    "print(b.T @ c)\n",
    "print(\"\\n\")\n",
    "print(np.dot(b.T, c))"
   ]
  },
  {
   "cell_type": "markdown",
   "metadata": {},
   "source": [
    "Useing .dot() on 1d arrays gives us the scalar product."
   ]
  },
  {
   "cell_type": "code",
   "execution_count": 55,
   "metadata": {},
   "outputs": [
    {
     "data": {
      "text/plain": [
       "14"
      ]
     },
     "execution_count": 55,
     "metadata": {},
     "output_type": "execute_result"
    }
   ],
   "source": [
    "np.dot(a, a)"
   ]
  },
  {
   "cell_type": "markdown",
   "metadata": {},
   "source": [
    "Sometimes machine learning libraries need 2d array data as inputs. However very often yor data has the form of a mathematical vector. In this case you create a 2d array and reshape it into a column or row vector. (We need 2d arrays to store information about vector orientation)\n",
    "For this special case we specify one dimension as 1 and the other dimension as -1 which means \"let numpy figure out how many elements need to be there\". As you will see, normally -1 has another meaning in python syntax."
   ]
  },
  {
   "cell_type": "raw",
   "metadata": {},
   "source": [
    "x = np.array([[1,2,3],[4,5,6]]) \n",
    "print(x, \"\\n\")\n",
    "\n",
    "print(x.reshape(1,-1))\n",
    "print(\"\\n\")\n",
    "print(x.reshape(-1,1))"
   ]
  },
  {
   "cell_type": "code",
   "execution_count": 122,
   "metadata": {},
   "outputs": [
    {
     "name": "stdout",
     "output_type": "stream",
     "text": [
      "[1 2 3]\n",
      "[[1 2 3]]\n",
      "\n",
      "\n",
      "[1 2 3]\n",
      "[[1]\n",
      " [2]\n",
      " [3]]\n"
     ]
    }
   ],
   "source": [
    "# Compare the two different arrays. What is the difference?\n",
    "a1 = np.array([1,2,3])\n",
    "a2 = np.array([1,2,3]).reshape(1,3)\n",
    "print(a1)  # 1d array\n",
    "print(a2)  # 2d array that acts as a row vector\n",
    "\n",
    "print(\"\\n\")\n",
    "\n",
    "print(a1.T)  # We cant transpose 1d arrays\n",
    "print(a2.T)  # We can transpose 2d arrays"
   ]
  },
  {
   "cell_type": "markdown",
   "metadata": {},
   "source": [
    "<h3> Array math </h3>\n",
    "Since you know that .dot() is used for matrix multiplication, we give you a list of most element wise operations in numpy. "
   ]
  },
  {
   "cell_type": "code",
   "execution_count": 59,
   "metadata": {},
   "outputs": [
    {
     "name": "stdout",
     "output_type": "stream",
     "text": [
      "[[ 6.  8.]\n",
      " [10. 12.]]\n",
      "[[ 6.  8.]\n",
      " [10. 12.]]\n"
     ]
    }
   ],
   "source": [
    "x = np.array([[1,2],[3,4]], dtype=np.float64)\n",
    "y = np.array([[5,6],[7,8]], dtype=np.float64)\n",
    "\n",
    "print(x + y)\n",
    "print(np.add(x, y))"
   ]
  },
  {
   "cell_type": "code",
   "execution_count": 60,
   "metadata": {},
   "outputs": [
    {
     "name": "stdout",
     "output_type": "stream",
     "text": [
      "[[-4. -4.]\n",
      " [-4. -4.]]\n",
      "[[-4. -4.]\n",
      " [-4. -4.]]\n"
     ]
    }
   ],
   "source": [
    "print(x - y)\n",
    "print(np.subtract(x, y))"
   ]
  },
  {
   "cell_type": "code",
   "execution_count": 61,
   "metadata": {},
   "outputs": [
    {
     "name": "stdout",
     "output_type": "stream",
     "text": [
      "[[ 5. 12.]\n",
      " [21. 32.]]\n",
      "[[ 5. 12.]\n",
      " [21. 32.]]\n"
     ]
    }
   ],
   "source": [
    "print(x * y)\n",
    "print(np.multiply(x, y))"
   ]
  },
  {
   "cell_type": "code",
   "execution_count": 62,
   "metadata": {},
   "outputs": [
    {
     "name": "stdout",
     "output_type": "stream",
     "text": [
      "[[0.2        0.33333333]\n",
      " [0.42857143 0.5       ]]\n",
      "[[0.2        0.33333333]\n",
      " [0.42857143 0.5       ]]\n"
     ]
    }
   ],
   "source": [
    "print(x / y)\n",
    "print(np.divide(x, y))"
   ]
  },
  {
   "cell_type": "code",
   "execution_count": 63,
   "metadata": {},
   "outputs": [
    {
     "name": "stdout",
     "output_type": "stream",
     "text": [
      "[[1.         1.41421356]\n",
      " [1.73205081 2.        ]]\n"
     ]
    }
   ],
   "source": [
    "print(np.sqrt(x))"
   ]
  },
  {
   "cell_type": "code",
   "execution_count": 64,
   "metadata": {},
   "outputs": [
    {
     "name": "stdout",
     "output_type": "stream",
     "text": [
      "10\n",
      "[4 6]\n",
      "[3 7]\n"
     ]
    }
   ],
   "source": [
    "x = np.array([[1,2],[3,4]])\n",
    "\n",
    "print(np.sum(x))  # Compute sum of all elements\n",
    "print(np.sum(x, axis=0))  # Compute sum of each column\n",
    "print(np.sum(x, axis=1))  # Compute sum of each row"
   ]
  },
  {
   "cell_type": "markdown",
   "metadata": {},
   "source": [
    "<h3> Indexing and Slicing </h3>\n",
    "IMHO the most important skill to know in numpy and one of the easiest to get wrong. \n",
    "Also note that indexing and slicing in numpy works similiar as indexing and slicing on python lists.\n",
    "\n",
    "**Indexing** is a convenient way of accessing one or multiple elements via an integer index.\n",
    "\n",
    "**Slicing** a list or array give us another list or array. Think of it as big chunk of cheese."
   ]
  },
  {
   "cell_type": "code",
   "execution_count": 76,
   "metadata": {},
   "outputs": [
    {
     "name": "stdout",
     "output_type": "stream",
     "text": [
      "[0 1 2 3 4]\n",
      "[1 2 3]\n",
      "[1 2 3 4]\n",
      "[0 1 2 3]\n",
      "\n",
      "\n",
      "[0, 1, 2, 3, 4]\n",
      "[1, 2, 3]\n",
      "[1, 2, 3, 4]\n",
      "[0, 1, 2, 3]\n",
      "\n",
      "\n"
     ]
    }
   ],
   "source": [
    "#Python Slicing notation\n",
    "a = np.array([0,1,2,3,4])\n",
    "list = [0,1,2,3,4]\n",
    "\n",
    "start = 1\n",
    "stop = 4\n",
    "\n",
    "print(a)\n",
    "print(a[start:stop])  # prints from start to stop -1 [1 2 3]\n",
    "print(a[start:])  # prints from start until the last array element is reached\n",
    "print(a[:stop])  # print from the first array element to stop-1\n",
    "print(\"\\n\")  # If you haven't it figured out by now. This prints new lines\n",
    "\n",
    "# Same syntax works for the list \n",
    "print(list)\n",
    "print(list[start:stop])\n",
    "print(list[start:])\n",
    "print(list[:stop])\n",
    "print(\"\\n\")"
   ]
  },
  {
   "cell_type": "markdown",
   "metadata": {},
   "source": [
    "To get the last item in a list/array. Python/numpy provides us with a very pythonic notation style."
   ]
  },
  {
   "cell_type": "code",
   "execution_count": 83,
   "metadata": {},
   "outputs": [
    {
     "name": "stdout",
     "output_type": "stream",
     "text": [
      "4\n",
      "3\n",
      "[3 4]\n",
      "[0 1 2]\n"
     ]
    }
   ],
   "source": [
    "print(a[-1])  # Last element of the array\n",
    "print(a[-2])  # Last second last element of the array\n",
    "\n",
    "print(a[-2:]) # Get the last two elements in an array\n",
    "print(a[:-2]) # Everything except the last two elements in the array"
   ]
  },
  {
   "cell_type": "markdown",
   "metadata": {},
   "source": [
    "Now we take this notation and use it for 2d arrays (or nd if you like). Multiple dimensions are now seperated by comma."
   ]
  },
  {
   "cell_type": "code",
   "execution_count": 100,
   "metadata": {},
   "outputs": [
    {
     "name": "stdout",
     "output_type": "stream",
     "text": [
      "[[1 2 0]\n",
      " [4 5 1]] \n",
      "\n",
      "[[1 2 0]\n",
      " [4 5 1]]\n",
      "\n",
      "\n",
      "1\n",
      "\n",
      "\n",
      "[0 1]\n"
     ]
    }
   ],
   "source": [
    "b = np.array([[1,2,0],[4,5,1]])\n",
    "\n",
    "print(b, \"\\n\")\n",
    "\n",
    "print(b[:,:])  # Prints all rows and all columns\n",
    "print(\"\\n\")\n",
    "\n",
    "print(b[0,0])  # Prints first element\n",
    "print(\"\\n\")\n",
    "\n",
    "print(b[:, -1])  # SELECT LAST COLUMN. EASY WAY TO SELECT TARGETS! THIRD MOST IMPORTANT LINE OF CODE!"
   ]
  },
  {
   "cell_type": "markdown",
   "metadata": {},
   "source": [
    "Why does Python starts at 0? Why does it use half-open bounds for indexing?\n",
    "\n",
    "Many reasons! But most of the time calculation with slicing get easier this way and stay consistent.\n",
    "\n",
    "Nonetheless other programming languages like MATLAB and Julia index at 1 and have reasonable arguments for doing so."
   ]
  },
  {
   "cell_type": "code",
   "execution_count": 119,
   "metadata": {},
   "outputs": [
    {
     "name": "stdout",
     "output_type": "stream",
     "text": [
      "[[1 2]\n",
      " [4 5]]\n",
      "\n",
      "\n",
      "[[0]\n",
      " [1]]\n"
     ]
    }
   ],
   "source": [
    "# We assume that all features are stored as coulmns and all following columns denote the targets.\n",
    "# We assume that length of features + length of targets = length of data\n",
    "data = np.array([[1,2,0],[4,5,1]])\n",
    "\n",
    "number_features = 2\n",
    "number_targets = 1\n",
    "\n",
    "# FIRST AND SECOND MOST IMPORTANT LINES OF CODE FOR THIS SECTION!\n",
    "x = b[:, 0:number_features]  # Note that the first : means \"all\". The second : means \"from -> to\". \n",
    "y = b[:, -number_targets:]\n",
    "\n",
    "print(x)\n",
    "print(\"\\n\")\n",
    "print(y)"
   ]
  },
  {
   "cell_type": "markdown",
   "metadata": {},
   "source": [
    "<h2> Scipy </h2>\n",
    "\n",
    "Numpy provides a high-performance multidimensional array and basic tools to compute with and manipulate these arrays. SciPy builds on this, and provides a large number of functions that operate on numpy arrays and are useful for different types of scientific and engineering applications.\n",
    "\n",
    "The best way to get familiar with SciPy is to browse the documentation. We will highlight some parts of SciPy that you might find useful for this class.\n",
    "\n",
    "HOWEVER: Scipy for machine learning applications is mostly used for preprocessing or feature engineering purpose. Since these methods are highly specific for each particular field, they won't be covered here."
   ]
  },
  {
   "cell_type": "markdown",
   "metadata": {},
   "source": [
    "The functions <code>scipy.io.loadmat</code>  and <code>scipy.io.savemat</code>  allow you to read and write MATLAB files. You can read about them in the [documentation](https://docs.scipy.org/doc/scipy/reference/generated/scipy.io.loadmat.html).\n",
    "\n",
    "\n",
    "\n"
   ]
  },
  {
   "cell_type": "markdown",
   "metadata": {},
   "source": [
    "<h2> Pandas </h2>\n",
    "\n",
    "Python Data Analysis Library\n",
    "\n",
    "pandas is an open source, BSD-licensed **library providing high-performance, easy-to-use data structures and data analysis tools** for the Python programming language. Source: https://pandas.pydata.org/\n",
    "\n",
    "We won't cover Pandas in this case, but basically pandas is very useful when dealing with large amounts of data. In this case storing them in numpy arrays becomes inefficient computational wise. Pandas also features additional tools to modify and view data.\n",
    "\n",
    "The minimum you want to do with pandas is using <code>read_csv</code> to read data from a csv file and store them in a pandas dataframe. After that you call <code>.values</code> to convert your dataframe into a numpy array. This is always faster than using numpy to read a csv file directly. However this is of course optional. (Like everything shown in this tutorial)"
   ]
  },
  {
   "cell_type": "markdown",
   "metadata": {},
   "source": [
    "<h2> Plotting </h2>\n",
    "\n",
    "There are a multitude of plotting libraries available in python. You can also use third party plotting software, such as Tableau or Excel. For this class we give a very short overview of two common python based plotting libraries. \n",
    "\n",
    "<h3> Matplotlib</h3>\n",
    "\n",
    "Matplotlib is a Python **2D plotting library which produces publication quality figures** in a variety of hardcopy formats and interactive environments across platforms. \n",
    "\n",
    "Matplotlib tries to make easy things easy and hard things possible. **You can generate plots, histograms, power spectra, bar charts, errorcharts, scatterplots, etc.**, with just a few lines of code. For examples, see the sample plots and thumbnail gallery.\n",
    "\n",
    "For simple plotting the pyplot module provides a MATLAB-like interface, particularly when combined with IPython. For the power user, you have full control of line styles, font properties, axes properties, etc, via an object oriented interface or via a set of functions familiar to MATLAB users.\n",
    "\n",
    "Source: https://matplotlib.org/\n",
    "\n",
    "__________________________________________________________________________\n",
    "<h3> Seaborn </h3>\n",
    "\n",
    "Seaborn: statistical data visualization\n",
    "\n",
    "Seaborn is a Python data **visualization library based on matplotlib. It provides a high-level interface** for drawing attractive and informative statistical graphics.\n",
    "\n",
    "Source: https://seaborn.pydata.org/\n"
   ]
  },
  {
   "cell_type": "markdown",
   "metadata": {},
   "source": [
    "<h3> A short (over)-simplification: </h3>\n",
    "\n",
    "Matplotlib is the root for most plotting done in python. Matplotlib is inspired by MATLAB plotting. \n",
    "\n",
    "However most user consider the high-level interface in matplotlib still as too complicated. This is especially true for beginners. Hence, additional libraries such as Seaborn abstract futher away by basically providing one-liners to create complex charts ang graphics. "
   ]
  }
 ],
 "metadata": {
  "kernelspec": {
   "display_name": "Python 3",
   "language": "python",
   "name": "python3"
  },
  "language_info": {
   "codemirror_mode": {
    "name": "ipython",
    "version": 3
   },
   "file_extension": ".py",
   "mimetype": "text/x-python",
   "name": "python",
   "nbconvert_exporter": "python",
   "pygments_lexer": "ipython3",
   "version": "3.6.5"
  }
 },
 "nbformat": 4,
 "nbformat_minor": 2
}
