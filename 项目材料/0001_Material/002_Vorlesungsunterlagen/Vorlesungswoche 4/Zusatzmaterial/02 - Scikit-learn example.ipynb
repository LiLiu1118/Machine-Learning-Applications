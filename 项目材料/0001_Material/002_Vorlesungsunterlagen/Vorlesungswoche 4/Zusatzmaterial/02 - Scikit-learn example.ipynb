{
 "cells": [
  {
   "cell_type": "markdown",
   "metadata": {},
   "source": [
    "<h1> Basic Classifier in scikit-learn for handwritten digits </h1>"
   ]
  },
  {
   "cell_type": "markdown",
   "metadata": {},
   "source": [
    "This is a slightly modified version for the official scikit-learn tutorial on classification.\n",
    "This tutorial is futher explained here: https://scikit-learn.org/stable/tutorial/basic/tutorial.html#introduction\n",
    "You can view the whole code as a script here: https://scikit-learn.org/stable/auto_examples/classification/plot_digits_classification.html#sphx-glr-auto-examples-classification-plot-digits-classification-py"
   ]
  },
  {
   "cell_type": "markdown",
   "metadata": {},
   "source": [
    "<h2> Preparing the data </h2>"
   ]
  },
  {
   "cell_type": "markdown",
   "metadata": {},
   "source": [
    "Start by import scikit learn (sklearn) to perform machine learning operations and matplotlib to plot the data and results"
   ]
  },
  {
   "cell_type": "code",
   "execution_count": 45,
   "metadata": {},
   "outputs": [],
   "source": [
    "import matplotlib.pyplot as plt\n",
    "from sklearn import datasets, svm, metrics\n",
    "from sklearn.model_selection import train_test_split"
   ]
  },
  {
   "cell_type": "markdown",
   "metadata": {},
   "source": [
    "The MNIST dataset of handwritten digits is one of the oldest datasets solved by machine learning. Our goal is to use an algorithm to predict what number is written in the image. The data itself is stored online and already embedded in scikit learn \"dataset\" module. Hence, when using your own data later in the course, the process of loading said data will differ."
   ]
  },
  {
   "cell_type": "code",
   "execution_count": 46,
   "metadata": {},
   "outputs": [],
   "source": [
    "# Load the dataset from scikit-learn\n",
    "digits = datasets.load_digits()"
   ]
  },
  {
   "cell_type": "markdown",
   "metadata": {},
   "source": [
    "Before using any algorithms, it is always a good idea to explore the dataset. Usually a dataset for supervised learning contains two types of data. First the data that describes the object, usually called features. In this case the features are the pixels of the image, 8x8 to be exact. Since this dataset is integrated in scikit-learn we can print its features using .data, however normally the features are usually denoted as some kind of matrix X or are part of a complete dataframe which consists of all data. We start by looking at the features."
   ]
  },
  {
   "cell_type": "code",
   "execution_count": 47,
   "metadata": {},
   "outputs": [
    {
     "name": "stdout",
     "output_type": "stream",
     "text": [
      "[[ 0.  0.  5. ...  0.  0.  0.]\n",
      " [ 0.  0.  0. ... 10.  0.  0.]\n",
      " [ 0.  0.  0. ... 16.  9.  0.]\n",
      " ...\n",
      " [ 0.  0.  1. ...  6.  0.  0.]\n",
      " [ 0.  0.  2. ... 12.  0.  0.]\n",
      " [ 0.  0. 10. ... 12.  1.  0.]]\n"
     ]
    }
   ],
   "source": [
    "print(digits.data) "
   ]
  },
  {
   "cell_type": "markdown",
   "metadata": {},
   "source": [
    "Since its very hard to get a clue of the image by just looking at the grayscale values for the pixels, we use matplotlibs \"imshow\" capabilities to plot four pictures and the corresponding labels. The labels are the second part of the dataset, usually denoted by a matrix Y."
   ]
  },
  {
   "cell_type": "code",
   "execution_count": 48,
   "metadata": {},
   "outputs": [
    {
     "data": {
      "image/png": "[encoded data removed]",
      "text/plain": [
       "<Figure size 576x432 with 4 Axes>"
      ]
     },
     "metadata": {},
     "output_type": "display_data"
    }
   ],
   "source": [
    "plt.rcParams['figure.figsize'] = (8, 6)\n",
    "\n",
    "images_and_labels = list(zip(digits.images, digits.target))\n",
    "for index, (image, label) in enumerate(images_and_labels[:4]):\n",
    "    plt.subplot(2, 4, index + 1)\n",
    "    plt.axis('off')\n",
    "    plt.imshow(image, cmap=plt.cm.gray_r, interpolation='nearest')\n",
    "    plt.title('Training: %i' % label)"
   ]
  },
  {
   "cell_type": "markdown",
   "metadata": {},
   "source": [
    "Another name for the label is also target. Again since this dataset is integrated into scikit-learn we can just call this matrix using .target. In real world datasets the targets are usually the last column in the dataframe."
   ]
  },
  {
   "cell_type": "code",
   "execution_count": 49,
   "metadata": {},
   "outputs": [
    {
     "data": {
      "text/plain": [
       "array([0, 1, 2, ..., 8, 9, 8])"
      ]
     },
     "execution_count": 49,
     "metadata": {},
     "output_type": "execute_result"
    }
   ],
   "source": [
    "digits.target"
   ]
  },
  {
   "cell_type": "markdown",
   "metadata": {},
   "source": [
    "Before using machine learning algorithms, it is always a good idea to change the data into a more \"machine friendly\" format. This usually includes some kind of matrix transformations. In this case we take our 8x8 pixel matrix and _flatten_ them into a 64 sized vector. \n",
    "\n",
    "This is also the step where you can get rid of outlying data or use feature engineering to generate new features."
   ]
  },
  {
   "cell_type": "code",
   "execution_count": 50,
   "metadata": {},
   "outputs": [],
   "source": [
    "n_samples = len(digits.images)\n",
    "data = digits.images.reshape((n_samples, -1))"
   ]
  },
  {
   "cell_type": "markdown",
   "metadata": {},
   "source": [
    "In the last step we take our data and split it into a training and testing set."
   ]
  },
  {
   "cell_type": "code",
   "execution_count": 51,
   "metadata": {},
   "outputs": [],
   "source": [
    "x_train, x_test, y_train, y_test = train_test_split(data[:n_samples], digits.target[:n_samples], test_size=0.25, shuffle=False)"
   ]
  },
  {
   "cell_type": "markdown",
   "metadata": {},
   "source": [
    "<h2> Learning and Predictiing </h2>"
   ]
  },
  {
   "cell_type": "markdown",
   "metadata": {},
   "source": [
    "Machine Learning models are called estimators in scikit-learn, which is a fitting name. There a many different estimators for different tasks available. For this example we will use a Support Vector Machine (SVM) since it will give good results even on small datasets.\n",
    "\n",
    "When constructing a SVM we need to specify two hyperparameters that need to be set. Gamma which is the kernel coefficient and C which is a regularization term. While testing machine learning models it's important to observe the influence on different parameters _given your particular training data_.\n",
    "\n",
    "https://scikit-learn.org/stable/modules/svm.html / \n",
    "https://scikit-learn.org/stable/modules/generated/sklearn.svm.SVC.html"
   ]
  },
  {
   "cell_type": "code",
   "execution_count": 52,
   "metadata": {},
   "outputs": [],
   "source": [
    "clf = svm.SVC(gamma=0.005, C=100.)"
   ]
  },
  {
   "cell_type": "markdown",
   "metadata": {},
   "source": [
    "This is the \"magic moment\". By calling .fit on the estimator we train the classifier on the given training set.  "
   ]
  },
  {
   "cell_type": "code",
   "execution_count": 53,
   "metadata": {},
   "outputs": [
    {
     "data": {
      "text/plain": [
       "SVC(C=100.0, cache_size=200, class_weight=None, coef0=0.0,\n",
       "  decision_function_shape='ovr', degree=3, gamma=0.005, kernel='rbf',\n",
       "  max_iter=-1, probability=False, random_state=None, shrinking=True,\n",
       "  tol=0.001, verbose=False)"
      ]
     },
     "execution_count": 53,
     "metadata": {},
     "output_type": "execute_result"
    }
   ],
   "source": [
    "clf.fit(x_train, y_train)"
   ]
  },
  {
   "cell_type": "markdown",
   "metadata": {},
   "source": [
    "Now that we have a trained model. We can make predictions on the unseen test data."
   ]
  },
  {
   "cell_type": "code",
   "execution_count": 54,
   "metadata": {},
   "outputs": [],
   "source": [
    "expected = y_test\n",
    "predicted = clf.predict(x_test)"
   ]
  },
  {
   "cell_type": "markdown",
   "metadata": {},
   "source": [
    "<h2> Evaluation </h2>"
   ]
  },
  {
   "cell_type": "markdown",
   "metadata": {},
   "source": [
    "We can compare the predicted values with expected values and calculate the metrics. \n",
    "The first print is the classification report featuring most of the metrics that are important for classification. \n",
    "The rows dictate the class, in this case numbers from 0 to 9, while the columns specify the kind of metric. \n",
    "\n",
    "Precision describes how accurate the model is. It shows the proportion of positive identification that were actually correct. A precision of .95 means that in 95% of the cases the model chose the correct class. \n",
    "\n",
    "Recall describes in what proportion the actual true positve values in the test data have been correctly labeled. \n",
    "\n",
    "The f1-score conveys the balance between precision and recall which are mostly in a tug of war.\n",
    "\n",
    "Support is the number of each occurrences of each class in the y_test dataset. Optimally it should be balanced.\n",
    "\n",
    "https://developers.google.com/machine-learning/crash-course/classification/precision-and-recall\n",
    "\n",
    "https://machinelearningmastery.com/classification-accuracy-is-not-enough-more-performance-measures-you-can-use/"
   ]
  },
  {
   "cell_type": "code",
   "execution_count": 55,
   "metadata": {},
   "outputs": [
    {
     "name": "stdout",
     "output_type": "stream",
     "text": [
      "Classification report for classifier SVC(C=100.0, cache_size=200, class_weight=None, coef0=0.0,\n",
      "  decision_function_shape='ovr', degree=3, gamma=0.005, kernel='rbf',\n",
      "  max_iter=-1, probability=False, random_state=None, shrinking=True,\n",
      "  tol=0.001, verbose=False):\n",
      "             precision    recall  f1-score   support\n",
      "\n",
      "          0       1.00      0.93      0.96        43\n",
      "          1       1.00      0.91      0.95        46\n",
      "          2       1.00      0.93      0.96        43\n",
      "          3       0.97      0.77      0.86        47\n",
      "          4       1.00      0.92      0.96        48\n",
      "          5       0.96      1.00      0.98        45\n",
      "          6       1.00      0.91      0.96        47\n",
      "          7       1.00      0.89      0.94        45\n",
      "          8       0.52      1.00      0.68        41\n",
      "          9       1.00      0.84      0.92        45\n",
      "\n",
      "avg / total       0.95      0.91      0.92       450\n",
      "\n",
      "\n",
      "Confusion matrix:\n",
      "[[40  0  0  0  0  0  0  0  3  0]\n",
      " [ 0 42  0  0  0  0  0  0  4  0]\n",
      " [ 0  0 40  0  0  0  0  0  3  0]\n",
      " [ 0  0  0 36  0  1  0  0 10  0]\n",
      " [ 0  0  0  0 44  0  0  0  4  0]\n",
      " [ 0  0  0  0  0 45  0  0  0  0]\n",
      " [ 0  0  0  0  0  0 43  0  4  0]\n",
      " [ 0  0  0  0  0  0  0 40  5  0]\n",
      " [ 0  0  0  0  0  0  0  0 41  0]\n",
      " [ 0  0  0  1  0  1  0  0  5 38]]\n"
     ]
    }
   ],
   "source": [
    "print(\"Classification report for classifier %s:\\n%s\\n\"\n",
    "      % (clf, metrics.classification_report(expected, predicted)))\n",
    "print(\"Confusion matrix:\\n%s\" % metrics.confusion_matrix(expected, predicted))"
   ]
  },
  {
   "cell_type": "markdown",
   "metadata": {},
   "source": [
    "Last but not least we should finish how we started. Plotting some data. In this case we will plot the first four pictures from the x_test set and title them by their predicted labels. \n",
    "\n",
    "Even though this plot doesn't have much statistical power, it sums our work up nicely and is a good ending for this tutorial."
   ]
  },
  {
   "cell_type": "code",
   "execution_count": 56,
   "metadata": {},
   "outputs": [
    {
     "data": {
      "image/png": "[encoded data removed]",
      "text/plain": [
       "<Figure size 576x432 with 4 Axes>"
      ]
     },
     "metadata": {},
     "output_type": "display_data"
    }
   ],
   "source": [
    "plt.rcParams['figure.figsize'] = (8, 6)\n",
    "\n",
    "images_and_predictions = list(zip(x_test, predicted))\n",
    "for index, (image, prediction) in enumerate(images_and_predictions[:4]):\n",
    "    plt.subplot(2, 4, index + 5)\n",
    "    plt.axis('off')\n",
    "    image = image.reshape(8,8)\n",
    "    plt.imshow(image, cmap=plt.cm.gray_r, interpolation='nearest')\n",
    "    plt.title('Prediction: %i' % prediction)\n",
    "\n",
    "plt.show()"
   ]
  },
  {
   "cell_type": "markdown",
   "metadata": {},
   "source": [
    "<h2> Conclusion </h2>"
   ]
  },
  {
   "cell_type": "markdown",
   "metadata": {},
   "source": [
    "You should have learned: \n",
    "- The basic workflow when working with small datasets\n",
    "- That different data needs to be preprocessed differently\n",
    "- How to prepare your data (split into training and test sets)\n",
    "- How to construct an estimator in scikit-learn, fit it with data and make predictions\n",
    "- Statistically evaluate your findings and do some basic plotting"
   ]
  },
  {
   "cell_type": "markdown",
   "metadata": {},
   "source": [
    "What you don't need to know for this particular exercise:\n",
    "- How to exactly plot multiple images with matplotlib\n",
    "- The internal workings of a support vector machine"
   ]
  },
  {
   "cell_type": "markdown",
   "metadata": {},
   "source": [
    "Try it yourself!\n",
    "\n",
    "1) Try changing the \"gamma\" Parameter of the SVM, can you achieve a better score? (Hint: 98% precision is possible with SVM)\n",
    "\n",
    "2) Shuffle the data. What are the advantages of shuffling your data? What do you have to consider?\n",
    "\n",
    "3) What does the confusion matrix that we plotted tell us?"
   ]
  },
  {
   "cell_type": "markdown",
   "metadata": {},
   "source": [
    "<h2> Bonus </h2>"
   ]
  },
  {
   "cell_type": "markdown",
   "metadata": {},
   "source": [
    "Plotting is fun, so let's do some more.\n",
    "Depending on how you changed your SVM and how the data is shuffled you might have already seen some pictures, where the SVM predicted wrong numbers. We can investigate this more closely, by modifying the code above to plot up to 32 pictures that have been mislabeled."
   ]
  },
  {
   "cell_type": "code",
   "execution_count": 57,
   "metadata": {},
   "outputs": [
    {
     "data": {
      "image/png": "[encoded data removed]",
      "text/plain": [
       "<Figure size 1008x576 with 32 Axes>"
      ]
     },
     "metadata": {},
     "output_type": "display_data"
    }
   ],
   "source": [
    "plt.rcParams['figure.figsize'] = (14, 8)\n",
    "\n",
    "i = 1\n",
    "images_and_predictions = list(zip(x_test, predicted, expected))\n",
    "for index, (image, prediction, expection) in enumerate(images_and_predictions):\n",
    "    if i > 32:\n",
    "        break\n",
    "    \n",
    "    if prediction != expection:\n",
    "        plt.subplot(4, 8, i)\n",
    "        plt.axis('off')\n",
    "        image = image.reshape(8,8)\n",
    "        plt.imshow(image, cmap=plt.cm.gray_r, interpolation='nearest')\n",
    "        plt.title('Prediction: %i' % prediction)\n",
    "        i += 1 \n",
    "\n",
    "\n",
    "plt.show()"
   ]
  },
  {
   "cell_type": "markdown",
   "metadata": {},
   "source": [
    "You can now compare the mislabeled numbers above with the confusion matrix. In case you used the default values (gamma=0.005, C=100 and shuffle=False) you should see a bunch of numbers falsely classified as 8 which is reflected both in the plots and the confusion matrix).\n",
    "\n",
    "Spoiler: Use the provided default values and set gamma=0.001. Run the training, predicting, evaluating and plotting process again (Hint: You can \"Run All\" Cells at once). Compare the plot of falsely classified numbers with the confusion matrix again. What changed? How high is our precision/accuracy?"
   ]
  },
  {
   "cell_type": "markdown",
   "metadata": {},
   "source": [
    "<h2> Do it yourself </h2>"
   ]
  },
  {
   "cell_type": "markdown",
   "metadata": {},
   "source": [
    "We successfully explored the MNIST dataset, trained a estimator and evaluated it. After that you had the possibility to modify the estimator in an iterative process and compare different metrics to find a good working model. \n",
    "\n",
    "Now it's time to do it all again. You can use any dataset that you find on the web. For example the Iris dataset is also considered an easy one, but take what you like.\n",
    "\n",
    "Change the part that loads the data (Hint: \"train_test_split\" needs two matrixes X and Y representing your data and targets) and be ready to see error messages, because stuff brakes. That's normal, dont worry.\n",
    "\n",
    "GL HF :)"
   ]
  }
 ],
 "metadata": {
  "kernelspec": {
   "display_name": "Python 3",
   "language": "python",
   "name": "python3"
  },
  "language_info": {
   "codemirror_mode": {
    "name": "ipython",
    "version": 3
   },
   "file_extension": ".py",
   "mimetype": "text/x-python",
   "name": "python",
   "nbconvert_exporter": "python",
   "pygments_lexer": "ipython3",
   "version": "3.6.5"
  }
 },
 "nbformat": 4,
 "nbformat_minor": 2
}
