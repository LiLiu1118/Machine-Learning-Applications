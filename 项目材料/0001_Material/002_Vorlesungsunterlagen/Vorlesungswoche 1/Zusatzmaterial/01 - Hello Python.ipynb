{
 "cells": [
  {
   "cell_type": "markdown",
   "metadata": {},
   "source": [
    "<h1> Introduction to Python </h1>"
   ]
  },
  {
   "cell_type": "markdown",
   "metadata": {},
   "source": [
    "Jupyter Notebooks use the interactive nature of python to create cells. \n",
    "I am a \"Markdown\"-Cell that uses html commands to display text. Or simply put: You can just type in me\n",
    "\n",
    "The next cell will be a \"Code\"-Cell that interprets Python Code."
   ]
  },
  {
   "cell_type": "code",
   "execution_count": 2,
   "metadata": {},
   "outputs": [
    {
     "name": "stdout",
     "output_type": "stream",
     "text": [
      "7.5\n"
     ]
    }
   ],
   "source": [
    "x = 5\n",
    "y = 2.5\n",
    "\n",
    "z = x + y\n",
    "\n",
    "print(z)"
   ]
  },
  {
   "cell_type": "markdown",
   "metadata": {},
   "source": [
    "As you can see Python does not use variable types. \n",
    "\n",
    "Since this is a interactive notebook we can print the variable z without calling the print function directly."
   ]
  },
  {
   "cell_type": "code",
   "execution_count": 3,
   "metadata": {},
   "outputs": [
    {
     "data": {
      "text/plain": [
       "7.5"
      ]
     },
     "execution_count": 3,
     "metadata": {},
     "output_type": "execute_result"
    }
   ],
   "source": [
    "z"
   ]
  },
  {
   "cell_type": "markdown",
   "metadata": {},
   "source": [
    "You might have noticed that all Code-Cells do have a number on the left field. Thats the order they've been executed. We can change this order by running the first cell again. Lets change the x variable from 5 to 6 and see what happens.\n",
    "\n",
    "<b> What do you think will happen? </b>\n",
    "\n",
    "1.) Only the first code cell will update\n",
    "\n",
    "2.) Only the second code cell will update\n",
    "\n",
    "3.) The first and second code cell will update\n"
   ]
  },
  {
   "cell_type": "markdown",
   "metadata": {},
   "source": [
    "Even though you shouldn't write complex projects in notebooks, they're very handy for sharing and explaning code. Hence you will probably see them (or other interactive python interpreters) very often when doing research or reading tutorials.\n"
   ]
  },
  {
   "cell_type": "markdown",
   "metadata": {},
   "source": [
    "<h2> Keywords </h2>\n",
    "\n",
    "These are the keywords that python uses. Don't use these names for variables or functions, you will see later why.\n",
    "\n",
    "|   |   |   |   |   |\n",
    "|:---|:---|:---|:---|:---|\n",
    "|`and`|`as`|`assert`|`break`\n",
    "|`class`|`continue`|`def`|`del`  \n",
    "|`elif`|`else`|`except`|`exec`\n",
    "|`finally`|`for`|`from`|`global`\n",
    "|`if`|`import`|`in`|` is`\n",
    "|`lambda`|`not`|`or`|` pass`\n",
    "|`print`|`raise`|`return`|`try`\n",
    "|`while`|`with`|`yield`\n",
    "\n",
    "Taken from [Lean Python](http://file.allitebooks.com/20161117/Lean%20Python.pdf)"
   ]
  },
  {
   "cell_type": "markdown",
   "metadata": {},
   "source": [
    "<h2> Logic </h2>"
   ]
  },
  {
   "cell_type": "markdown",
   "metadata": {},
   "source": [
    "- == means comparison\n",
    "- = means assignment"
   ]
  },
  {
   "cell_type": "markdown",
   "metadata": {},
   "source": [
    "An overview of logical operators:\n",
    "\n",
    "- == equal\n",
    "- != unequal\n",
    "- < less than\n",
    "- \\> greater than \n",
    "- <= less than or equal to >= greater than or equal to\n",
    "\n",
    "Logic operator in python use words"
   ]
  },
  {
   "cell_type": "code",
   "execution_count": 74,
   "metadata": {},
   "outputs": [
    {
     "name": "stdout",
     "output_type": "stream",
     "text": [
      "True\n",
      "True\n"
     ]
    }
   ],
   "source": [
    "print(3==3 and 4==4)\n",
    "print(1==2 or not 1==2)"
   ]
  },
  {
   "cell_type": "markdown",
   "metadata": {},
   "source": [
    "For Incrementing and Decrementing Python doesnt have explict ++ or -- operators. Use += or -= instead."
   ]
  },
  {
   "cell_type": "code",
   "execution_count": 75,
   "metadata": {},
   "outputs": [
    {
     "data": {
      "text/plain": [
       "2"
      ]
     },
     "execution_count": 75,
     "metadata": {},
     "output_type": "execute_result"
    }
   ],
   "source": [
    "three = 3\n",
    "three -= 1\n",
    "three"
   ]
  },
  {
   "cell_type": "markdown",
   "metadata": {},
   "source": [
    "<h2> Loops </h2>"
   ]
  },
  {
   "cell_type": "markdown",
   "metadata": {},
   "source": [
    "Python has two types of loops: While and for loops. It is noted that the basic for loop in python is more close to a foreach loop in other programming langauges, than the standard C like for loop"
   ]
  },
  {
   "cell_type": "code",
   "execution_count": 4,
   "metadata": {},
   "outputs": [
    {
     "name": "stdout",
     "output_type": "stream",
     "text": [
      "I want 2 cookies. Give me more!\n",
      "I want 3 cookies. Give me more!\n",
      "I want 4 cookies. Give me more!\n"
     ]
    }
   ],
   "source": [
    "i = 2\n",
    "while i<5: \n",
    "    print(f\"I want {i} cookies. Give me more!\")\n",
    "    i += 1"
   ]
  },
  {
   "cell_type": "markdown",
   "metadata": {},
   "source": [
    "**What do you think will happen?** Try to delete the line that increments i and see what happens. What happens to the number on the left side of the cell?"
   ]
  },
  {
   "cell_type": "code",
   "execution_count": 8,
   "metadata": {},
   "outputs": [
    {
     "name": "stdout",
     "output_type": "stream",
     "text": [
      "Red\n",
      "Blue\n",
      "Green\n"
     ]
    }
   ],
   "source": [
    "list = [\"Red\", \"Blue\", \"Green\"]\n",
    "for color in list:\n",
    "    print(color)"
   ]
  },
  {
   "cell_type": "markdown",
   "metadata": {},
   "source": [
    "In the last example we iterated over a list. But how to iterate over numbers? \n",
    "\n",
    "We need to create an *iterable* object that contains numbers. The range() function does exactly that."
   ]
  },
  {
   "cell_type": "code",
   "execution_count": 22,
   "metadata": {},
   "outputs": [
    {
     "name": "stdout",
     "output_type": "stream",
     "text": [
      "0\n",
      "1\n",
      "2\n",
      "3\n",
      "4\n"
     ]
    }
   ],
   "source": [
    "for i in range(5):\n",
    "    print(i)"
   ]
  },
  {
   "cell_type": "markdown",
   "metadata": {},
   "source": [
    "<h2> Control Strucutres </h2>"
   ]
  },
  {
   "cell_type": "markdown",
   "metadata": {},
   "source": [
    "Python supports the usual if/else control structures that you're used to. Just don't forget to use indentation instead of braces."
   ]
  },
  {
   "cell_type": "code",
   "execution_count": 67,
   "metadata": {},
   "outputs": [
    {
     "name": "stdout",
     "output_type": "stream",
     "text": [
      "0 is smaller than 3\n",
      "1 is smaller than 3\n",
      "2 is smaller than 3\n",
      "3 is between 3 and 5\n",
      "4 is between 3 and 5\n",
      "5 is 5 or bigger\n",
      "6 is 5 or bigger\n"
     ]
    }
   ],
   "source": [
    "number = 0\n",
    "while number < 7:\n",
    "    if number < 3:\n",
    "        print(number, \"is smaller than 3\")\n",
    "    elif number < 5:\n",
    "        print(number, \"is between 3 and 5\")\n",
    "    else:\n",
    "        print(number, \"is 5 or bigger\")\n",
    "    number += 1"
   ]
  },
  {
   "cell_type": "markdown",
   "metadata": {},
   "source": [
    "<h2> Functions </h2>"
   ]
  },
  {
   "cell_type": "markdown",
   "metadata": {},
   "source": [
    "Let's create our first function by using the def keyword. Functions in python take one or more arguments but don't need to specifally return a variable."
   ]
  },
  {
   "cell_type": "code",
   "execution_count": 14,
   "metadata": {},
   "outputs": [
    {
     "name": "stdout",
     "output_type": "stream",
     "text": [
      "I return nothing\n"
     ]
    }
   ],
   "source": [
    "def my_func():\n",
    "    print(\"I return nothing\")\n",
    "    \n",
    "my_func()"
   ]
  },
  {
   "cell_type": "code",
   "execution_count": 24,
   "metadata": {},
   "outputs": [
    {
     "name": "stdout",
     "output_type": "stream",
     "text": [
      "9\n"
     ]
    }
   ],
   "source": [
    "def my_func2(number):\n",
    "    return number**2\n",
    "\n",
    "\n",
    "print(my_func2(3))"
   ]
  },
  {
   "cell_type": "markdown",
   "metadata": {},
   "source": [
    "Of course python has already many functions build in. Here are some examples. "
   ]
  },
  {
   "cell_type": "code",
   "execution_count": 77,
   "metadata": {},
   "outputs": [
    {
     "name": "stdout",
     "output_type": "stream",
     "text": [
      "5\n"
     ]
    }
   ],
   "source": [
    "print(len(range(5)))  # Len gives you the length of many object types"
   ]
  },
  {
   "cell_type": "markdown",
   "metadata": {},
   "source": [
    "Remember the keywords section? I said don't use the keywords as variable names, since you can overwrite everything in Python. Same is true for build in functions. Don't create a variabel \"sum\", since it will overwrite the sum function. But for teaching purpose, lets do it anyways."
   ]
  },
  {
   "cell_type": "code",
   "execution_count": 82,
   "metadata": {},
   "outputs": [
    {
     "data": {
      "text/plain": [
       "15"
      ]
     },
     "execution_count": 82,
     "metadata": {},
     "output_type": "execute_result"
    }
   ],
   "source": [
    "sum(range(6))  # 0+1+2+3+4+5 = 15"
   ]
  },
  {
   "cell_type": "code",
   "execution_count": 84,
   "metadata": {},
   "outputs": [
    {
     "ename": "TypeError",
     "evalue": "'int' object is not callable",
     "output_type": "error",
     "traceback": [
      "\u001b[1;31m---------------------------------------------------------------------------\u001b[0m",
      "\u001b[1;31mTypeError\u001b[0m                                 Traceback (most recent call last)",
      "\u001b[1;32m<ipython-input-84-74cea42c4da0>\u001b[0m in \u001b[0;36m<module>\u001b[1;34m()\u001b[0m\n\u001b[0;32m      1\u001b[0m \u001b[0msum\u001b[0m \u001b[1;33m=\u001b[0m \u001b[1;36m0\u001b[0m  \u001b[1;31m# Replace the sum function with the int 0\u001b[0m\u001b[1;33m\u001b[0m\u001b[0m\n\u001b[1;32m----> 2\u001b[1;33m \u001b[0msum\u001b[0m\u001b[1;33m(\u001b[0m\u001b[0mrange\u001b[0m\u001b[1;33m(\u001b[0m\u001b[1;36m6\u001b[0m\u001b[1;33m)\u001b[0m\u001b[1;33m)\u001b[0m  \u001b[1;31m# Try to call the function (which does not exist anymore)\u001b[0m\u001b[1;33m\u001b[0m\u001b[0m\n\u001b[0m",
      "\u001b[1;31mTypeError\u001b[0m: 'int' object is not callable"
     ]
    }
   ],
   "source": [
    "sum = 0  # Replace the sum function with the int 0\n",
    "sum(range(6))  # Try to call the function (which does not exist anymore)"
   ]
  },
  {
   "cell_type": "markdown",
   "metadata": {},
   "source": [
    "<h2> List, Tuples and Dictionaries </h2>"
   ]
  },
  {
   "cell_type": "markdown",
   "metadata": {},
   "source": [
    "A list is an ordered set of data that is mutable (can be changed)\n",
    "\n",
    "A tuple is an ordered set of data that is inmutable (cannot be changed)\n",
    "\n",
    "A dictionary does not have an order, but uses key value pairs instead"
   ]
  },
  {
   "cell_type": "code",
   "execution_count": 50,
   "metadata": {},
   "outputs": [
    {
     "name": "stdout",
     "output_type": "stream",
     "text": [
      "Second element of the list is: 2\n",
      "Our list: [1, 5, 6, 7]\n"
     ]
    }
   ],
   "source": [
    "list = [1, 2, 3]\n",
    "\n",
    "print(\"Second element of the list is:\", list[1])  # Indexing starts at 0\n",
    "list[1:3] = 5, 6  # This notation is called slicing\n",
    "list.append(7)\n",
    "\n",
    "print(\"Our list:\", list)"
   ]
  },
  {
   "cell_type": "code",
   "execution_count": 32,
   "metadata": {},
   "outputs": [
    {
     "name": "stdout",
     "output_type": "stream",
     "text": [
      "(1, 2, 3)\n"
     ]
    },
    {
     "ename": "TypeError",
     "evalue": "'tuple' object does not support item assignment",
     "output_type": "error",
     "traceback": [
      "\u001b[1;31m---------------------------------------------------------------------------\u001b[0m",
      "\u001b[1;31mTypeError\u001b[0m                                 Traceback (most recent call last)",
      "\u001b[1;32m<ipython-input-32-e302ab237eed>\u001b[0m in \u001b[0;36m<module>\u001b[1;34m()\u001b[0m\n\u001b[0;32m      3\u001b[0m \u001b[0mprint\u001b[0m\u001b[1;33m(\u001b[0m\u001b[0mtuple\u001b[0m\u001b[1;33m)\u001b[0m\u001b[1;33m\u001b[0m\u001b[0m\n\u001b[0;32m      4\u001b[0m \u001b[1;33m\u001b[0m\u001b[0m\n\u001b[1;32m----> 5\u001b[1;33m \u001b[0mtuple\u001b[0m\u001b[1;33m[\u001b[0m\u001b[1;36m2\u001b[0m\u001b[1;33m]\u001b[0m \u001b[1;33m=\u001b[0m \u001b[1;36m5\u001b[0m  \u001b[1;31m# throws error\u001b[0m\u001b[1;33m\u001b[0m\u001b[0m\n\u001b[0m",
      "\u001b[1;31mTypeError\u001b[0m: 'tuple' object does not support item assignment"
     ]
    }
   ],
   "source": [
    "tuple = (1, 2, 3)\n",
    "\n",
    "print(tuple)\n",
    "\n",
    "tuple[2] = 5  # throws error, because tuples are imutable\n"
   ]
  },
  {
   "cell_type": "code",
   "execution_count": 36,
   "metadata": {},
   "outputs": [
    {
     "name": "stdout",
     "output_type": "stream",
     "text": [
      "trivago\n",
      "8\n"
     ]
    }
   ],
   "source": [
    "dictionary = {\"student_count\": 3, 4:8, \"hotel\":\"trivago\"}\n",
    "\n",
    "print()\n",
    "print(dictionary[3+1])  # Dictionary keys don't have to be strings!\n",
    "print(dictionary[\"hotel\"])"
   ]
  },
  {
   "cell_type": "markdown",
   "metadata": {},
   "source": [
    "In python you can change values for two variables very easy, by using packing and unpacking of lists/tuples"
   ]
  },
  {
   "cell_type": "code",
   "execution_count": 43,
   "metadata": {},
   "outputs": [
    {
     "name": "stdout",
     "output_type": "stream",
     "text": [
      "x=7 and y=5\n"
     ]
    }
   ],
   "source": [
    "x = 5\n",
    "y = 7\n",
    "\n",
    "x, y = (y, x)  # Brackets are optional.\n",
    "\n",
    "print(\"x={} and y={}\".format(x, y))"
   ]
  },
  {
   "cell_type": "markdown",
   "metadata": {},
   "source": [
    "<h2> String formatting </h2>"
   ]
  },
  {
   "cell_type": "markdown",
   "metadata": {},
   "source": [
    "Python has various methods of formatting strings. In general its down to personal prefference. But we encourage you to use .format() method or f-strings for complex outputs. Using the C-Style formatting is generally not advised.\n",
    "\n",
    "https://realpython.com/python-string-formatting/#2-new-style-string-formatting-strformat"
   ]
  },
  {
   "cell_type": "markdown",
   "metadata": {},
   "source": [
    "You can build short strings, but using commas for seperating."
   ]
  },
  {
   "cell_type": "code",
   "execution_count": 62,
   "metadata": {},
   "outputs": [
    {
     "name": "stdout",
     "output_type": "stream",
     "text": [
      "Hallo 5 me\n"
     ]
    }
   ],
   "source": [
    "number = 5\n",
    "print(\"We are\", number, \"people\")"
   ]
  },
  {
   "cell_type": "markdown",
   "metadata": {},
   "source": [
    "C-Style formatting \"Old Style\""
   ]
  },
  {
   "cell_type": "code",
   "execution_count": 53,
   "metadata": {},
   "outputs": [
    {
     "name": "stdout",
     "output_type": "stream",
     "text": [
      "Bob is 18 years old.\n"
     ]
    }
   ],
   "source": [
    "name = \"Bob\"\n",
    "age = 18\n",
    "print(\"%s is %d years old.\" % (name, age))"
   ]
  },
  {
   "cell_type": "markdown",
   "metadata": {},
   "source": [
    "Python 3.X Style formatting \"New Style\""
   ]
  },
  {
   "cell_type": "code",
   "execution_count": 59,
   "metadata": {},
   "outputs": [
    {
     "name": "stdout",
     "output_type": "stream",
     "text": [
      "Hello, Bob\n"
     ]
    }
   ],
   "source": [
    "print(\"Hello, {}\".format(name))"
   ]
  },
  {
   "cell_type": "markdown",
   "metadata": {},
   "source": [
    "String literals / f-Strings"
   ]
  },
  {
   "cell_type": "code",
   "execution_count": 85,
   "metadata": {},
   "outputs": [
    {
     "name": "stdout",
     "output_type": "stream",
     "text": [
      "Five plus ten is 15 and not 30.\n"
     ]
    }
   ],
   "source": [
    "a = 5\n",
    "b = 10\n",
    "print(f\"Five plus ten is {a + b} and not {2 * (a + b)}.\")"
   ]
  },
  {
   "cell_type": "markdown",
   "metadata": {},
   "source": [
    "<h2> Next time </h2>\n",
    "\n",
    "Very short introduction to object oriented programming in python. \n",
    "Introduction to matrix oeprations in numpy."
   ]
  }
 ],
 "metadata": {
  "kernelspec": {
   "display_name": "Python 3",
   "language": "python",
   "name": "python3"
  },
  "language_info": {
   "codemirror_mode": {
    "name": "ipython",
    "version": 3
   },
   "file_extension": ".py",
   "mimetype": "text/x-python",
   "name": "python",
   "nbconvert_exporter": "python",
   "pygments_lexer": "ipython3",
   "version": "3.6.5"
  }
 },
 "nbformat": 4,
 "nbformat_minor": 2
}
