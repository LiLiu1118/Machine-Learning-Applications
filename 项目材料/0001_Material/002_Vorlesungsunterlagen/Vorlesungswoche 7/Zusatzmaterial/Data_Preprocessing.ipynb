{
 "cells": [
  {
   "cell_type": "markdown",
   "metadata": {},
   "source": [
    "# Machine Learning Applications - Data Understanding\n",
    "\n",
    "<p> Practical examples for machine learning applications lecture No. 7 - Data Understanding </p>\n",
    "\n",
    "Author: \n",
    " Henrik Simon - 2019-11-29\n",
    "\n",
    "<h4> Contents </h4>\n",
    "\n",
    " 1. Data Understanding <font color=\"red\">- see Jupyter notebook \"Data Exploration\"</font>\n",
    " 2. Data Preprocessing\n",
    " 3. Feature Engineering\n",
    " \n",
    " How to use: This notebook is only partly automated. After loading the data in chapter 1, you have to choose which preprocessing step you want to do (and if you want to do any). You then either run through chapter 2.1, 2.2 or 2.3. The wrapper (2.4) works slightly different as it includes one machine learning algorithm directly. In chapter 3 you can then evaluate the different proprocessing methods and save the results in order to compare the methods against each other.\n",
    "\n",
    "First, we need to import the necessary python libraries:"
   ]
  },
  {
   "cell_type": "code",
   "execution_count": null,
   "metadata": {},
   "outputs": [],
   "source": [
    "# Standard data handling libraries\n",
    "import pandas as pd\n",
    "import numpy as np\n",
    "\n",
    "# Standard plotting tools\n",
    "import seaborn as sns\n",
    "import matplotlib.pyplot as plt\n",
    "from mpl_toolkits.mplot3d import Axes3D\n",
    "from mpl_toolkits.mplot3d.art3d import Line3DCollection\n",
    "\n",
    "# Some data preparation libraries\n",
    "from sklearn.model_selection import train_test_split\n",
    "from sklearn.preprocessing import StandardScaler\n",
    "from sklearn.metrics import roc_auc_score\n",
    "from sklearn.metrics import confusion_matrix\n",
    "from sklearn.metrics import classification_report\n",
    "import sklearn.metrics as metrics\n",
    "from sklearn.utils.multiclass import unique_labels\n",
    "from sklearn.decomposition import PCA\n",
    "from mlxtend.feature_selection import SequentialFeatureSelector\n",
    "# Not included in anaconda suite, use \"conda install -c conda-forge mlxtend\" to install\n",
    "\n",
    "# Wizzards: Machine learning tools\n",
    "from sklearn.naive_bayes import GaussianNB\n",
    "from sklearn.tree import DecisionTreeClassifier\n",
    "from sklearn.ensemble import RandomForestClassifier\n",
    "from sklearn import svm\n",
    "from sklearn.neural_network import MLPClassifier\n",
    "from sklearn.externals import joblib\n",
    "\n",
    "# Fancy additional stuff - maybe not installed\n",
    "from tqdm import tqdm_notebook as tqdm\n",
    "# from IPython.display import display, clear_output"
   ]
  },
  {
   "cell_type": "markdown",
   "metadata": {},
   "source": [
    "## 1. Load your data\n",
    "\n",
    "<p> First we will again load the data and get an overview of the recorded parameters. More detailed examples of Data Understanding can be found in the Jupyter Notebook \"Data exploration\". The basic idea is to analyse and describe the dataset with classical statistical methods. In this notebook, we will focus on the preprocessing part and will only plot the most meaningful graphics and parameters.  \n",
    "\n",
    "<p> We now start with importing the two dataset. The first on will contain samples of the light weight container, the second one will contain samples of the heavy weight container. </p>"
   ]
  },
  {
   "cell_type": "code",
   "execution_count": null,
   "metadata": {
    "scrolled": true
   },
   "outputs": [],
   "source": [
    "\"\"\"PFAD ANPASSEN\"\"\"\n",
    "# Import files\n",
    "df_light_full = pd.read_csv(\"Matlab_Data_Training_output_leicht.csv\", header=None)\n",
    "df_heavy_full = pd.read_csv(\"Matlab_Data_Training_output_schwer.csv\", header=None)\n",
    "\n",
    "# Rename columns names\n",
    "df_light_full.columns = ['DEV', 't', 'var_1', 'var_2', 'var_3']\n",
    "df_heavy_full.columns = ['DEV', 't', 'var_1', 'var_2', 'var_3']\n",
    "\n",
    "# Drop NaN\n",
    "df_heavy_full = df_heavy_full.dropna()\n",
    "df_light_full = df_light_full.dropna()\n",
    "\n",
    "# Show first values of dataset (validates correct formatting)\n",
    "df_heavy_full.head(3) "
   ]
  },
  {
   "cell_type": "markdown",
   "metadata": {},
   "source": [
    "The Data contains three columns:\n",
    " - Device name\n",
    " - timestep (counter)\n",
    " - Three acceleration parameters for x, y, z axis\n",
    "    \n",
    "The latter three parameters will represent the X-Values in our machine learning problem. We will add a Y-Value manually by creating the labels \"light\" or \"heavy\" represented by the scalar values 0 or 1. With concat (or concatenate) we will fusion the two datasets."
   ]
  },
  {
   "cell_type": "code",
   "execution_count": null,
   "metadata": {},
   "outputs": [],
   "source": [
    "y1 = np.zeros(len(df_light_full.index))\n",
    "y2 = np.ones(len(df_heavy_full.index))\n",
    "\n",
    "y = np.concatenate([y1, y2])\n",
    "\n",
    "x_pd = pd.concat([df_light_full, df_heavy_full])\n",
    "\n",
    "x = x_pd[[\"var_1\", \"var_2\", \"var_3\"]].values\n",
    "\n",
    "\n",
    "# we split the entire dataset into test and training. The dataset is shuffled and samples are picked randomly\n",
    "x_train, x_test, y_train, y_test = train_test_split(x, y, test_size=0.2, random_state=42)"
   ]
  },
  {
   "cell_type": "markdown",
   "metadata": {},
   "source": [
    "<b> ----> Go to Chapter 3  and run sections for checking the classification results without further preprocessing! </b>"
   ]
  },
  {
   "cell_type": "markdown",
   "metadata": {},
   "source": [
    "Alright. Through the visual inspection in Data exploration we know, that we saw slightly differences in the distributions of the first variable. We will repeat this plot."
   ]
  },
  {
   "cell_type": "code",
   "execution_count": null,
   "metadata": {
    "scrolled": false
   },
   "outputs": [],
   "source": [
    "plt.figure(figsize=(20,10))\n",
    "\n",
    "sns.distplot(df_light_full['var_1'], norm_hist=True, label='Light')\n",
    "sns.distplot(df_heavy_full['var_1'], norm_hist=True, label='heavy')\n",
    "plt.xlabel('Var1 = Acc in x-direction')\n",
    "plt.legend()"
   ]
  },
  {
   "cell_type": "markdown",
   "metadata": {},
   "source": [
    "# 2. Data Preprocessing\n",
    "\n",
    "<h3>2.1 Simplest version of Feature Engineering: Moving mean </h3>\n",
    "\n",
    "The easiest way of generating synthetic features is to just take statistical representations or filtering methods. In this case, we will apply a moving average/mean filter on the data with a windows size of 100 samples. Additionally we will compute the standard deviation of this window and take it as input variable as well."
   ]
  },
  {
   "cell_type": "code",
   "execution_count": null,
   "metadata": {},
   "outputs": [],
   "source": [
    "w_len = 100\n",
    "\n",
    "x_l = df_light_full[['var_1', 'var_2', 'var_3']].values\n",
    "x_h = df_heavy_full[['var_1', 'var_2', 'var_3']].values\n",
    "\n",
    "xx_l = np.zeros([1,6])\n",
    "for ii in np.arange(w_len,len(x_l)):\n",
    "    values_l = np.array(x_l[ii-w_len:ii])\n",
    "    xx_mean = np.mean(values_l, axis=0)\n",
    "    xx_std  = np.std(values_l, axis=0)\n",
    "    \n",
    "    new_vals = np.concatenate([xx_mean, xx_std])\n",
    "    xx_l     = np.vstack((xx_l, new_vals))\n",
    "    \n",
    "xx_h = np.zeros([1,6])\n",
    "for ii in np.arange(w_len,len(x_h)):\n",
    "    values_h = np.array(x_h[ii-w_len:ii])\n",
    "    xx_mean = np.mean(values_h, axis=0)\n",
    "    xx_std  = np.std(values_h, axis=0)\n",
    "    \n",
    "    new_vals = np.concatenate([xx_mean, xx_std])\n",
    "    xx_h     = np.vstack((xx_h, new_vals))\n"
   ]
  },
  {
   "cell_type": "markdown",
   "metadata": {},
   "source": [
    "Okay, well done. Now let's check out the influence on the time series..."
   ]
  },
  {
   "cell_type": "code",
   "execution_count": null,
   "metadata": {},
   "outputs": [],
   "source": [
    "plt.figure()\n",
    "plt.plot(xx_h[:,0])"
   ]
  },
  {
   "cell_type": "code",
   "execution_count": null,
   "metadata": {},
   "outputs": [],
   "source": [
    "plt.figure()\n",
    "plt.plot(df_heavy_full.var_1)"
   ]
  },
  {
   "cell_type": "markdown",
   "metadata": {},
   "source": [
    "...And maybe more interesting on the statistical distribution"
   ]
  },
  {
   "cell_type": "code",
   "execution_count": null,
   "metadata": {
    "scrolled": false
   },
   "outputs": [],
   "source": [
    "plt.figure(figsize=(20,10))\n",
    "\n",
    "sns.distplot(xx_l[:,0], norm_hist=True, label=['light'])\n",
    "sns.distplot(xx_h[:,0], norm_hist=True, label=['heavy'])\n",
    "plt.xlabel('Var1 = Acc in x-direction')\n",
    "plt.legend()"
   ]
  },
  {
   "cell_type": "markdown",
   "metadata": {},
   "source": [
    "Finally, we will again sort the data and bring it to the right order. In the last step we split the data already into training and test set and can then go to chapter 3 for evaluation."
   ]
  },
  {
   "cell_type": "code",
   "execution_count": null,
   "metadata": {},
   "outputs": [],
   "source": [
    "y1 = np.zeros(len(xx_l))\n",
    "y2 = np.ones(len(xx_h))\n",
    "\n",
    "y = np.concatenate([y1, y2])\n",
    "\n",
    "x = np.concatenate([xx_l, xx_h])\n",
    "\n",
    "# we split the entire dataset into test and training. The dataset is shuffled and samples are picked randomly\n",
    "x_train, x_test, y_train, y_test = train_test_split(x, y, test_size=0.2, random_state=42)"
   ]
  },
  {
   "cell_type": "markdown",
   "metadata": {},
   "source": [
    "<b> ----> Go to Chapter 3 for evaluation !! </b>"
   ]
  },
  {
   "cell_type": "markdown",
   "metadata": {},
   "source": [
    "<h3> 2.2 Another Preprocessing: Fast Fourier Transformation </h3>\n",
    "A Fourier Transformation is often suitable for vibration data. It transforms the time series of a given window size into the frequency domain and may reveal new insights. Especially when investigating the technical health status and for diagnosis and prognosis topics, this method is very popular."
   ]
  },
  {
   "cell_type": "code",
   "execution_count": null,
   "metadata": {
    "scrolled": true
   },
   "outputs": [],
   "source": [
    "# Set window length / sampling frequency\n",
    "Fs = 100\n",
    "\n",
    "x_l = df_light_full[['var_1', 'var_2', 'var_3']].values\n",
    "x_h = df_heavy_full[['var_1', 'var_2', 'var_3']].values\n",
    "\n",
    "ampl_l = np.zeros([3,(len(x_l)-100+2),51])\n",
    "for zz in tqdm(range(3)):\n",
    "    ampl_l0 = np.zeros([1,51])\n",
    "    for ii in tqdm(range(len(x_l[:,zz])-100)):\n",
    "        Y = np.fft.fft(x_l[ii:(ii+100),zz])\n",
    "\n",
    "        P2 = np.abs(Y/len(Y))\n",
    "        P1 = P2[0:(len(Y)//2+1)]\n",
    "        f = np.arange((len(Y)+1)//2)*Fs/len(Y)\n",
    "\n",
    "        ampl_l0 = np.vstack((ampl_l0, P1))\n",
    "    ampl_l[zz,:,:] = np.vstack((ampl_l0, P1))\n",
    "    \n",
    "    \n",
    "ampl_h = np.zeros([3,(len(x_h)-100+2),51])\n",
    "for zz in tqdm(range(3)):\n",
    "    ampl_h0 = np.zeros([1,51])\n",
    "    for ii in tqdm(range(len(x_h[:,zz])-100)):\n",
    "        Y = np.fft.fft(x_h[ii:(ii+101),zz])\n",
    "\n",
    "        P2 = np.abs(Y/len(Y))\n",
    "        P1 = P2[0:(len(Y)//2+1)]\n",
    "        f = np.arange((len(Y)+1)//2)*Fs/len(Y)\n",
    "\n",
    "        ampl_h0 = np.vstack((ampl_h0, P1))\n",
    "    ampl_h[zz,:,:] = np.vstack((ampl_h0, P1))"
   ]
  },
  {
   "cell_type": "markdown",
   "metadata": {},
   "source": [
    "We can plot the frequency spectrum at different timesteps. As the sampling frequency is only 100Hz, we can only calculate frequencies up to 50Hz (Nyquist-Shannon!)."
   ]
  },
  {
   "cell_type": "code",
   "execution_count": null,
   "metadata": {
    "scrolled": false
   },
   "outputs": [],
   "source": [
    "plt.figure()\n",
    "plt.plot(f, ampl_l[1,600,:])\n",
    "plt.title('Frequency spectrum')\n",
    "plt.xlabel('Frquency in Hz')\n",
    "plt.ylabel('Amplitude')"
   ]
  },
  {
   "cell_type": "markdown",
   "metadata": {},
   "source": [
    "Finally, again combine the generated data in one array and then go to Chapter 3 for evaluation"
   ]
  },
  {
   "cell_type": "code",
   "execution_count": null,
   "metadata": {},
   "outputs": [],
   "source": [
    "y1 = np.zeros(len(ampl_l[0]))\n",
    "y2 = np.ones(len(ampl_h[0]))\n",
    "\n",
    "y = np.concatenate([y1, y2])\n",
    "\n",
    "\n",
    "all_ampl_l = np.concatenate([ampl_l[0,:,:], ampl_l[1,:,:], ampl_l[2,:,:]], axis=1)\n",
    "all_ampl_h = np.concatenate([ampl_h[0,:,:], ampl_h[1,:,:], ampl_h[2,:,:]], axis=1)\n",
    "    \n",
    "x = np.concatenate([all_ampl_l, all_ampl_h])\n",
    "\n",
    "# we split the entire dataset into test and training. The dataset is shuffled and samples are picked randomly\n",
    "x_train, x_test, y_train, y_test = train_test_split(x, y, test_size=0.2, random_state=42)"
   ]
  },
  {
   "cell_type": "code",
   "execution_count": null,
   "metadata": {},
   "outputs": [],
   "source": [
    "all_ampl_l.shape"
   ]
  },
  {
   "cell_type": "code",
   "execution_count": null,
   "metadata": {},
   "outputs": [],
   "source": [
    "plt.figure()\n",
    "plt.plot(all_ampl_h[:,147])"
   ]
  },
  {
   "cell_type": "code",
   "execution_count": null,
   "metadata": {},
   "outputs": [],
   "source": [
    "plt.figure(figsize=(12,6))\n",
    "\n",
    "sns.distplot(all_ampl_l[:,147], norm_hist=True, label=['light'])\n",
    "sns.distplot(all_ampl_h[:,147], norm_hist=True, label=['heavy'])\n",
    "# plt.xlabel('Var1 = Acc in x-direction')\n",
    "plt.legend()"
   ]
  },
  {
   "cell_type": "markdown",
   "metadata": {},
   "source": [
    "<b> ----> Go to Chapter 3 for evaluation !! </b>"
   ]
  },
  {
   "cell_type": "markdown",
   "metadata": {},
   "source": [
    "<h3> 2.3 Next: Principal Component analysis - PCA </h3>\n",
    "\n",
    "We will use the scikit learn function for this operation. In contrast to the methods showed before, we need to split the training and test dataset before applying the method. Otherwise information from the test dataset will be captured in the preprocessing step and will bias our evaltuation. \n",
    "\n",
    "Steps:\n",
    "- Define the desired number of components you want to keep (number of features)\n",
    "- Standardize your data\n",
    "- Split into training and test set\n",
    "- Apply (fit) the PCA on the training set\n",
    "- Transform also your test set\n",
    "- Ready to go and evaluate!"
   ]
  },
  {
   "cell_type": "code",
   "execution_count": null,
   "metadata": {
    "scrolled": false
   },
   "outputs": [],
   "source": [
    "# Define number of components that we want to use for the PCA:\n",
    "n_PC = 3\n",
    "\n",
    "# Standardize the features\n",
    "x_std = StandardScaler().fit_transform(x)\n",
    "\n",
    "# Train into training and test dataset (usually this happens in chapter 3, but as this is a method which uses the)\n",
    "x_pca_train, x_pca_test, y_train, y_test = train_test_split(x_std, y, test_size=0.2, random_state=42)\n",
    "\n",
    "# Perform PCA -> dimensionality reduction down to 2D)\n",
    "pca = PCA(n_components=n_PC)\n",
    "\n",
    "# Fit (and transform training set)\n",
    "pc_train = pca.fit_transform(x_pca_train)\n",
    "# Transform test set:\n",
    "pc_test = pca.transform(x_pca_test)\n",
    "\n",
    "\n",
    "print(\"The explained variance per PC is: \", pca.explained_variance_ratio_)\n",
    "print(\"We lost\", 100*np.round(1 - np.sum(pca.explained_variance_ratio_), decimals=4), \"% of the information by cutting of after the\", n_PC, \". PC.\")\n",
    "\n",
    "# Just for plotting: create dataframe object and add target (labels)\n",
    "principalDF = pd.DataFrame(data = pc_train, columns = ['pc1', 'pc2', 'pc3'])\n",
    "pca_data = pd.DataFrame(y_train, columns=['label'])\n",
    "finalDF = pd.concat([principalDF, pca_data[\"label\"]], axis = 1)\n",
    "\n",
    "\n",
    "\"\"\"Plot PCA results\"\"\"\n",
    "\n",
    "fig = plt.figure(figsize = (8,6))\n",
    "ax = fig.add_subplot(1,1,1) \n",
    "ax.set_xlabel('Principal Component 1', fontsize = 15)\n",
    "ax.set_ylabel('Principal Component 2', fontsize = 15)\n",
    "# ax.set_title('2 component PCA', fontsize = 20)\n",
    "\n",
    "ax.scatter(finalDF['pc1'].loc[finalDF['label']==0],\n",
    "           finalDF['pc2'].loc[finalDF['label']==0], alpha=0.2, label='light')\n",
    "ax.scatter(finalDF['pc1'].loc[finalDF['label']==1],\n",
    "           finalDF['pc2'].loc[finalDF['label']==1], alpha=0.2, label='heavy')\n",
    "ax.set_ylim(-4,3)\n",
    "ax.legend()\n",
    "ax.grid()\n",
    "plt.plot()\n",
    "\n",
    "# Safe results (transformed/reduced data) for evaluation\n",
    "x_train = pc_train\n",
    "x_test = pc_test"
   ]
  },
  {
   "cell_type": "code",
   "execution_count": null,
   "metadata": {},
   "outputs": [],
   "source": [
    "plt.figure(figsize=(12,6))\n",
    "\n",
    "sns.distplot(finalDF['pc1'].loc[finalDF['label']==0], norm_hist=True, label='Light')\n",
    "sns.distplot(finalDF['pc1'].loc[finalDF['label']==1], norm_hist=True, label='heavy')\n",
    "plt.legend()"
   ]
  },
  {
   "cell_type": "markdown",
   "metadata": {},
   "source": [
    "If you want, you can also check the feature importance inside the principal components"
   ]
  },
  {
   "cell_type": "code",
   "execution_count": null,
   "metadata": {},
   "outputs": [],
   "source": [
    "abs(pca.components_)"
   ]
  },
  {
   "cell_type": "markdown",
   "metadata": {},
   "source": [
    "<h3> 2.4 Wrapper: Feature selection </h3>\n",
    "\n",
    "The third approach, we want to investigate, comes from the field of feature selection. In this case we will let a Wrapper algorithm select the most important features for our problem. In general, this can be done in two ways: Either forward selection (We start with one feature and with each iteration we will add one more) or backward selection (we start with all available feature and will drop one at each iteration). Abord criterion can be a certain performance of the algorithm (based on user-defined metrics like accuracy, ...) or a number of desired features."
   ]
  },
  {
   "cell_type": "code",
   "execution_count": null,
   "metadata": {
    "scrolled": true
   },
   "outputs": [],
   "source": [
    "# Initialize selector\n",
    "\n",
    "feature_selector = SequentialFeatureSelector(DecisionTreeClassifier(),\n",
    "           k_features=3,\n",
    "           forward=True,\n",
    "           verbose=4,\n",
    "           scoring='accuracy',\n",
    "           cv=4)\n",
    "\n",
    "features = feature_selector.fit(np.array(x_train), y_train)"
   ]
  },
  {
   "cell_type": "code",
   "execution_count": null,
   "metadata": {
    "scrolled": true
   },
   "outputs": [],
   "source": [
    "features.subsets_"
   ]
  },
  {
   "cell_type": "markdown",
   "metadata": {},
   "source": []
  },
  {
   "cell_type": "code",
   "execution_count": null,
   "metadata": {},
   "outputs": [],
   "source": [
    "x_train = x_train[:,features.k_feature_idx_]\n",
    "x_test = x_test[:,features.k_feature_idx_]"
   ]
  },
  {
   "cell_type": "markdown",
   "metadata": {},
   "source": [
    "## 3 Evaluation\n",
    "\n",
    "This part of the notebook is used to evaluate the before engineered features. We will use standard classification algorithms an compare their performances against each other.\n",
    "\n",
    "<h3>Which algorithms are used?</h3>\n",
    "We will compare the created features with four different standard alorithms:\n",
    "\n",
    "- Gaussian Naives Bayes\n",
    "- Decision tree\n",
    "- Random Forest\n",
    "- Artificial Neural Network\n",
    "\n",
    "<h3>Which metrics are used for comparison</h3>\n",
    "We need to define some metrics to compare the perfomances of the algorithms in the end. For this, we will use the standard performance metrics which can be used for classification problems:\n",
    "\n",
    "- Confusion matrix\n",
    "- Accuracy\n",
    "- Precision\n",
    "\n",
    "<h3> Assumptions and simplifications </h3>\n",
    "\n",
    "Very important: Compared to a sophisticated and holistic approach, we will do some simplifications:\n",
    "\n",
    "<b>No optimisation of hyperparameters:</b>\n",
    "We will not optimise any hyperparamters of the algorithms nor the feature engineering method. For the algorithms we will only use default parameters of Scikit learn, for feature engineering we will vary the windows size, but will not try to find the optimum. \n",
    "\n",
    "<b>No hold-out dataset</b>:\n",
    "Usually, what we would do, is to split the dataset into three subsets: One for training, one for hyperparameter optimisation (or cross-validation) and one as a hold-out set. The last one is used to simulate the deployment or application of the algorithm. In this case we will only use a simple training and deployment dataset (only two subsets). \n",
    "\n",
    "<h3>Let's start</h3>\n",
    "Now start the acutal machine learning and classification part. With the help of scikit learn we will train a few methods in a batch. The syntax stays the same for various algorithms in scikit learn. We define our algorithm, we will fit the algorithm on the training dataset and finally make a predict with our test set. The predicted values by the algorithm can be compared with the true values and we know if the algorithm was right or not."
   ]
  },
  {
   "cell_type": "markdown",
   "metadata": {},
   "source": []
  },
  {
   "cell_type": "code",
   "execution_count": null,
   "metadata": {},
   "outputs": [],
   "source": [
    "\"\"\"Takes input data, returns prediction\"\"\"\n",
    "gnb = GaussianNB()\n",
    "type = \"Gaussian Naive Bayes\"\n",
    "model = gnb.fit(x_train, y_train)\n",
    "\n",
    "y_pred_gnb = model.predict(x_test)\n",
    "\n",
    "# Advantage of the Naive-Bayes method is, that we get probabilites with the predicition: \n",
    "y_pred_prob_gnb = gnb.predict_proba(x_test)\n",
    "\n",
    "# If we want to save/store the model for a later application, we would use the following function (same for all):\n",
    "# joblib.dump(gnb, \"trained_gnb.pkl\")\n",
    "\n",
    "\"\"\"Decision Tree\"\"\"\n",
    "clf = DecisionTreeClassifier(random_state=0)\n",
    "type = 'DecisionTree'\n",
    "clf.fit(x_train, y_train)\n",
    "y_pred_dt = clf.predict(x_test)\n",
    "\n",
    "# Same as for Gaussian Naive Bayes\n",
    "y_pred_prob_dt = clf.predict_proba(x_test)\n",
    "\n",
    "# calculate_results(y_pred_dt, x_test, y_test, type, y_pred_prob_dt)\n",
    "\n",
    "\"\"\"Random Forest\"\"\"\n",
    "clf = RandomForestClassifier(random_state=0)\n",
    "type = 'RandomForest'\n",
    "clf.fit(x_train, y_train)\n",
    "y_pred_rf = clf.predict(x_test)\n",
    "y_pred_prob_rf = clf.predict_proba(x_test)\n",
    "\n",
    "# calculate_results(y_pred_rf, x_test, y_test, type, y_pred_prob_rf)\n",
    "\n",
    "\"\"\"Artificial Neural Network\"\"\"\n",
    "clf = MLPClassifier(random_state=0)\n",
    "type = 'MLP'\n",
    "clf.fit(x_train, y_train)\n",
    "y_pred_mlp = clf.predict(x_test)\n",
    "y_pred_prob_mlp = clf.predict_proba(x_test)\n",
    "\n",
    "# calculate_results(y_pred_mlp, x_test, y_test, type, y_pred_prob_mlp)"
   ]
  },
  {
   "cell_type": "markdown",
   "metadata": {},
   "source": [
    "We create a little extra function for analyzing the results of the algorithms"
   ]
  },
  {
   "cell_type": "code",
   "execution_count": null,
   "metadata": {},
   "outputs": [],
   "source": [
    "# This function helps to analyse the results\n",
    "def calculate_results(y_pred, x_test, y_test, type, y_pred_prob=None):\n",
    "    # Calculate Results\n",
    "    mislabeled_points = (y_test != y_pred).sum()\n",
    "    print(\"Results for {}:\".format(type))\n",
    "    print(\"Number of mislabeled points out of a total {} points : {}\".format(x_test.shape[0], mislabeled_points))\n",
    "    accuracy = (1 - (mislabeled_points / x_test.shape[0])) * 100\n",
    "    print(\"THE ACCURACY IS: {} %\".format(round(accuracy, 2)))\n",
    "\n",
    "    #  Calculate Probabilities if given\n",
    "    if y_pred_prob is None:\n",
    "        y_pred_prob = []  # None as default and assign the mutable value inside function to prevent bugs\n",
    "    if y_pred_prob.any():  # If list has values\n",
    "        probability_list_max = []\n",
    "        for i in range(len(y_pred_prob)):\n",
    "            probability_list_max.append(y_pred_prob[i].max())\n",
    "        probability_mean = np.mean(probability_list_max)\n",
    "        probability_std = np.std(probability_list_max, ddof=1)\n",
    "\n",
    "        print(\"The average certainity of the prediction is: {}% +/- {}% \\n\".format(round(probability_mean, 4)*100,\n",
    "                                                                              round(probability_std, 4)*100))"
   ]
  },
  {
   "attachments": {
    "image.png": {
     "image/png": "[encoded data removed]"
    }
   },
   "cell_type": "markdown",
   "metadata": {},
   "source": [
    "Now we run a small evaluation script to print all performance metrics and save the simpliest (Accuracy) in a list.\n",
    "\n",
    "Typically used metrics for performance evaluation of classification algorithms:\n",
    "- Confusion matrix!\n",
    "![image.png](attachment:image.png)\n",
    "    - TP: True positiv; prediction says 1, truth is 1\n",
    "    - TN: True negatives; prediction says 0, truth is 0\n",
    "    - FP: False positives; prediciton says 1, truth is 0\n",
    "    - FN: False negatives; prediction says 0, truth is 1\n",
    "\n",
    "\n",
    "- Accuracy = (TP+TN)/(TP+TN+FP+FN)\n",
    "- Precision = TP/(TP+FP)\n",
    "- Recall\n",
    "- Specifity\n",
    "- F1-Score\n",
    "- Receiver Operating Characteristic (ROC)\n",
    "- ..."
   ]
  },
  {
   "cell_type": "code",
   "execution_count": null,
   "metadata": {},
   "outputs": [],
   "source": [
    "algo_names = ['y_pred_gnb', 'y_pred_dt', 'y_pred_rf', 'y_pred_mlp']\n",
    "algo_pred = pd.DataFrame([y_pred_gnb, y_pred_dt, y_pred_rf, y_pred_mlp]).T\n",
    "algo_pred.columns = algo_names\n",
    "acc = []\n",
    "prec = []\n",
    "\n",
    "for i, name in enumerate(algo_names):\n",
    "    calculate_results(algo_pred[name], x_test, y_test, name, algo_pred[name])\n",
    "    print('Confusion matrix:\\n')\n",
    "    print(confusion_matrix(y_test, algo_pred[name]), '\\n')\n",
    "    print('Classification Report:')\n",
    "    print(classification_report(y_test, algo_pred[name]))\n",
    "    print('---------------------------------------------------------------------')\n",
    "    # Save all accuracy results in a list (you could do this for every result)\n",
    "    acc.append(metrics.accuracy_score(y_test, algo_pred[name]))\n",
    "    prec.append(metrics.precision_score(y_test, algo_pred[name]))"
   ]
  },
  {
   "cell_type": "code",
   "execution_count": null,
   "metadata": {},
   "outputs": [],
   "source": [
    "# Run this section only once!\n",
    "accuracies = pd.DataFrame()\n",
    "precision = pd.DataFrame()"
   ]
  },
  {
   "cell_type": "markdown",
   "metadata": {},
   "source": [
    "Finally we save the desired performance metrics (Accuracy) in a dataframe, for example for visualization purposes"
   ]
  },
  {
   "cell_type": "code",
   "execution_count": null,
   "metadata": {},
   "outputs": [],
   "source": [
    "accuracies['pca_movingmean'] = acc\n",
    "precision['pca_movingmean'] = prec\n",
    "accuracies"
   ]
  },
  {
   "cell_type": "code",
   "execution_count": null,
   "metadata": {},
   "outputs": [],
   "source": [
    "accuracies.columns[0:3]"
   ]
  },
  {
   "cell_type": "code",
   "execution_count": null,
   "metadata": {},
   "outputs": [],
   "source": [
    "# colors = \n",
    "plt.figure(figsize=(8,4))\n",
    "for counter, i in enumerate(accuracies.columns):\n",
    "    plt.scatter(accuracies.index, accuracies[i], label=i, marker='o', c='C{}'.format(counter))\n",
    "    plt.scatter(precision.index,  precision[i], marker='v', c='C{}'.format(counter))\n",
    "plt.scatter(0,0,marker='o', c='k', label='Accuracy')\n",
    "plt.scatter(0,0,marker='v', c='k', label='Precision')\n",
    "plt.legend(loc='center left', bbox_to_anchor=(1, 0.5))\n",
    "plt.ylim(0.55, 1.05)\n",
    "plt.xticks(accuracies.index, algo_names)\n",
    "plt.xlabel('Algorithm')\n",
    "plt.ylabel('Accuracy / Precision')"
   ]
  },
  {
   "cell_type": "markdown",
   "metadata": {},
   "source": [
    "You could try also other algorithms, as for example Support Vector machines. But this would take a moment longer."
   ]
  },
  {
   "cell_type": "code",
   "execution_count": null,
   "metadata": {
    "scrolled": true
   },
   "outputs": [],
   "source": [
    "clf = svm.SVC(kernel=\"rbf\", probability=True)\n",
    "type = \"Support Vector Machine\"\n",
    "clf.fit(x_train, y_train)\n",
    "y_pred = clf.predict(x_test)\n",
    "y_pred_prob = clf.predict_proba(x_test)\n",
    "\n",
    "\n",
    "# joblib.dump(clf, \"trained_svm_1.pkl\")\n",
    "calculate_results(y_pred, x_test, y_test, type, y_pred_prob)"
   ]
  }
 ],
 "metadata": {
  "kernelspec": {
   "display_name": "Python 3",
   "language": "python",
   "name": "python3"
  },
  "language_info": {
   "codemirror_mode": {
    "name": "ipython",
    "version": 3
   },
   "file_extension": ".py",
   "mimetype": "text/x-python",
   "name": "python",
   "nbconvert_exporter": "python",
   "pygments_lexer": "ipython3",
   "version": "3.6.6"
  }
 },
 "nbformat": 4,
 "nbformat_minor": 2
}
